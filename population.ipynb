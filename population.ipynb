{
  "nbformat": 4,
  "nbformat_minor": 0,
  "metadata": {
    "colab": {
      "name": "population.ipynb",
      "provenance": [],
      "authorship_tag": "ABX9TyOAPvEg1vmRWWwrF+KIoUhi",
      "include_colab_link": true
    },
    "kernelspec": {
      "name": "python3",
      "display_name": "Python 3"
    },
    "language_info": {
      "name": "python"
    }
  },
  "cells": [
    {
      "cell_type": "markdown",
      "metadata": {
        "id": "view-in-github",
        "colab_type": "text"
      },
      "source": [
        "<a href=\"https://colab.research.google.com/github/ishizukamaaya/CARAVAN/blob/main/population.ipynb\" target=\"_parent\"><img src=\"https://colab.research.google.com/assets/colab-badge.svg\" alt=\"Open In Colab\"/></a>"
      ]
    },
    {
      "cell_type": "code",
      "metadata": {
        "id": "3uJPgcUSVCAR"
      },
      "source": [
        "import pandas as pd"
      ],
      "execution_count": 1,
      "outputs": []
    },
    {
      "cell_type": "code",
      "metadata": {
        "colab": {
          "base_uri": "https://localhost:8080/"
        },
        "id": "OpWqHAMaVK5x",
        "outputId": "434c7181-e778-4cf3-fa44-2f5419136c80"
      },
      "source": [
        "from google.colab import drive\n",
        "drive.mount('/content/drive')"
      ],
      "execution_count": 11,
      "outputs": [
        {
          "output_type": "stream",
          "name": "stdout",
          "text": [
            "Mounted at /content/drive\n"
          ]
        }
      ]
    },
    {
      "cell_type": "code",
      "metadata": {
        "id": "NCJ417mqaDPh"
      },
      "source": [
        "df_population_data = pd.read_csv('/content/drive/My Drive/data.csv', encoding='shift-jis')"
      ],
      "execution_count": 12,
      "outputs": []
    },
    {
      "cell_type": "code",
      "metadata": {
        "colab": {
          "base_uri": "https://localhost:8080/",
          "height": 504
        },
        "id": "PDSs3HDcaGjH",
        "outputId": "75555f7e-8a2e-4935-e15d-b90db37b1194"
      },
      "source": [
        "df_population_data"
      ],
      "execution_count": 13,
      "outputs": [
        {
          "output_type": "execute_result",
          "data": {
            "text/html": [
              "<div>\n",
              "<style scoped>\n",
              "    .dataframe tbody tr th:only-of-type {\n",
              "        vertical-align: middle;\n",
              "    }\n",
              "\n",
              "    .dataframe tbody tr th {\n",
              "        vertical-align: top;\n",
              "    }\n",
              "\n",
              "    .dataframe thead th {\n",
              "        text-align: right;\n",
              "    }\n",
              "</style>\n",
              "<table border=\"1\" class=\"dataframe\">\n",
              "  <thead>\n",
              "    <tr style=\"text-align: right;\">\n",
              "      <th></th>\n",
              "      <th>都道府県コード</th>\n",
              "      <th>都道府県名</th>\n",
              "      <th>元号</th>\n",
              "      <th>和暦（年）</th>\n",
              "      <th>西暦（年）</th>\n",
              "      <th>注</th>\n",
              "      <th>人口（総数）</th>\n",
              "      <th>人口（男）</th>\n",
              "      <th>人口（女）</th>\n",
              "    </tr>\n",
              "  </thead>\n",
              "  <tbody>\n",
              "    <tr>\n",
              "      <th>0</th>\n",
              "      <td>00</td>\n",
              "      <td>全国</td>\n",
              "      <td>大正</td>\n",
              "      <td>9.0</td>\n",
              "      <td>1920.0</td>\n",
              "      <td>NaN</td>\n",
              "      <td>55963053</td>\n",
              "      <td>28044185</td>\n",
              "      <td>27918868</td>\n",
              "    </tr>\n",
              "    <tr>\n",
              "      <th>1</th>\n",
              "      <td>01</td>\n",
              "      <td>北海道</td>\n",
              "      <td>大正</td>\n",
              "      <td>9.0</td>\n",
              "      <td>1920.0</td>\n",
              "      <td>NaN</td>\n",
              "      <td>2359183</td>\n",
              "      <td>1244322</td>\n",
              "      <td>1114861</td>\n",
              "    </tr>\n",
              "    <tr>\n",
              "      <th>2</th>\n",
              "      <td>02</td>\n",
              "      <td>青森県</td>\n",
              "      <td>大正</td>\n",
              "      <td>9.0</td>\n",
              "      <td>1920.0</td>\n",
              "      <td>NaN</td>\n",
              "      <td>756454</td>\n",
              "      <td>381293</td>\n",
              "      <td>375161</td>\n",
              "    </tr>\n",
              "    <tr>\n",
              "      <th>3</th>\n",
              "      <td>03</td>\n",
              "      <td>岩手県</td>\n",
              "      <td>大正</td>\n",
              "      <td>9.0</td>\n",
              "      <td>1920.0</td>\n",
              "      <td>NaN</td>\n",
              "      <td>845540</td>\n",
              "      <td>421069</td>\n",
              "      <td>424471</td>\n",
              "    </tr>\n",
              "    <tr>\n",
              "      <th>4</th>\n",
              "      <td>04</td>\n",
              "      <td>宮城県</td>\n",
              "      <td>大正</td>\n",
              "      <td>9.0</td>\n",
              "      <td>1920.0</td>\n",
              "      <td>NaN</td>\n",
              "      <td>961768</td>\n",
              "      <td>485309</td>\n",
              "      <td>476459</td>\n",
              "    </tr>\n",
              "    <tr>\n",
              "      <th>...</th>\n",
              "      <td>...</td>\n",
              "      <td>...</td>\n",
              "      <td>...</td>\n",
              "      <td>...</td>\n",
              "      <td>...</td>\n",
              "      <td>...</td>\n",
              "      <td>...</td>\n",
              "      <td>...</td>\n",
              "      <td>...</td>\n",
              "    </tr>\n",
              "    <tr>\n",
              "      <th>977</th>\n",
              "      <td>45</td>\n",
              "      <td>宮崎県</td>\n",
              "      <td>平成</td>\n",
              "      <td>27.0</td>\n",
              "      <td>2015.0</td>\n",
              "      <td>NaN</td>\n",
              "      <td>1104069</td>\n",
              "      <td>519242</td>\n",
              "      <td>584827</td>\n",
              "    </tr>\n",
              "    <tr>\n",
              "      <th>978</th>\n",
              "      <td>46</td>\n",
              "      <td>鹿児島県</td>\n",
              "      <td>平成</td>\n",
              "      <td>27.0</td>\n",
              "      <td>2015.0</td>\n",
              "      <td>NaN</td>\n",
              "      <td>1648177</td>\n",
              "      <td>773061</td>\n",
              "      <td>875116</td>\n",
              "    </tr>\n",
              "    <tr>\n",
              "      <th>979</th>\n",
              "      <td>47</td>\n",
              "      <td>沖縄県</td>\n",
              "      <td>平成</td>\n",
              "      <td>27.0</td>\n",
              "      <td>2015.0</td>\n",
              "      <td>NaN</td>\n",
              "      <td>1433566</td>\n",
              "      <td>704619</td>\n",
              "      <td>728947</td>\n",
              "    </tr>\n",
              "    <tr>\n",
              "      <th>980</th>\n",
              "      <td>1)　沖縄県は調査されなかったため，含まれていない。</td>\n",
              "      <td>NaN</td>\n",
              "      <td>NaN</td>\n",
              "      <td>NaN</td>\n",
              "      <td>NaN</td>\n",
              "      <td>NaN</td>\n",
              "      <td>NaN</td>\n",
              "      <td>NaN</td>\n",
              "      <td>NaN</td>\n",
              "    </tr>\n",
              "    <tr>\n",
              "      <th>981</th>\n",
              "      <td>2)　長野県西筑摩群山口村と岐阜県中津川市の境界紛争地域人口（男39人，女34人）は全国に含...</td>\n",
              "      <td>NaN</td>\n",
              "      <td>NaN</td>\n",
              "      <td>NaN</td>\n",
              "      <td>NaN</td>\n",
              "      <td>NaN</td>\n",
              "      <td>NaN</td>\n",
              "      <td>NaN</td>\n",
              "      <td>NaN</td>\n",
              "    </tr>\n",
              "  </tbody>\n",
              "</table>\n",
              "<p>982 rows × 9 columns</p>\n",
              "</div>"
            ],
            "text/plain": [
              "                                               都道府県コード  ...     人口（女）\n",
              "0                                                   00  ...  27918868\n",
              "1                                                   01  ...   1114861\n",
              "2                                                   02  ...    375161\n",
              "3                                                   03  ...    424471\n",
              "4                                                   04  ...    476459\n",
              "..                                                 ...  ...       ...\n",
              "977                                                 45  ...    584827\n",
              "978                                                 46  ...    875116\n",
              "979                                                 47  ...    728947\n",
              "980                         1)　沖縄県は調査されなかったため，含まれていない。  ...       NaN\n",
              "981  2)　長野県西筑摩群山口村と岐阜県中津川市の境界紛争地域人口（男39人，女34人）は全国に含...  ...       NaN\n",
              "\n",
              "[982 rows x 9 columns]"
            ]
          },
          "metadata": {},
          "execution_count": 13
        }
      ]
    },
    {
      "cell_type": "code",
      "metadata": {
        "colab": {
          "base_uri": "https://localhost:8080/"
        },
        "id": "u3Yr3HoJbXku",
        "outputId": "67e4814e-9623-4d38-e8b2-60659ab610b3"
      },
      "source": [
        "type(df_population_data)"
      ],
      "execution_count": 15,
      "outputs": [
        {
          "output_type": "execute_result",
          "data": {
            "text/plain": [
              "pandas.core.frame.DataFrame"
            ]
          },
          "metadata": {},
          "execution_count": 15
        }
      ]
    }
  ]
}